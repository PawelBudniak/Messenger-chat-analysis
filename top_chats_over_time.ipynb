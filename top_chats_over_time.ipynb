{
 "cells": [
  {
   "cell_type": "code",
   "execution_count": 4,
   "metadata": {
    "collapsed": true
   },
   "outputs": [
    {
     "data": {
      "text/html": "        <script type=\"text/javascript\">\n        window.PlotlyConfig = {MathJaxConfig: 'local'};\n        if (window.MathJax && window.MathJax.Hub && window.MathJax.Hub.Config) {window.MathJax.Hub.Config({SVG: {font: \"STIX-Web\"}});}\n        if (typeof require !== 'undefined') {\n        require.undef(\"plotly\");\n        requirejs.config({\n            paths: {\n                'plotly': ['https://cdn.plot.ly/plotly-2.12.1.min']\n            }\n        });\n        require(['plotly'], function(Plotly) {\n            window._Plotly = Plotly;\n        });\n        }\n        </script>\n        "
     },
     "metadata": {},
     "output_type": "display_data"
    },
    {
     "name": "stdout",
     "output_type": "stream",
     "text": [
      "as\n"
     ]
    }
   ],
   "source": [
    "%matplotlib inline\n",
    "import stats_pandas as stats\n",
    "import pandas as pd\n",
    "from plotly.subplots import make_subplots\n",
    "from plotly.offline import download_plotlyjs, init_notebook_mode, plot, iplot\n",
    "import plotly.express as px\n",
    "\n",
    "init_notebook_mode(connected=True)\n",
    "\n",
    "PATH = r'test-chats'"
   ]
  },
  {
   "cell_type": "code",
   "execution_count": 5,
   "outputs": [
    {
     "name": "stdout",
     "output_type": "stream",
     "text": [
      "1. Adrian Prorok: 14\n",
      "2. Adrian Czech: 46\n"
     ]
    }
   ],
   "source": [
    "import biggest_chats\n",
    "\n",
    "TOP_N = 10\n",
    "\n",
    "top_chats = biggest_chats.chat_sizes(PATH)[:TOP_N]\n",
    "biggest_chats.print_chats(top_chats)"
   ],
   "metadata": {
    "collapsed": false,
    "pycharm": {
     "name": "#%%\n"
    }
   }
  },
  {
   "cell_type": "code",
   "execution_count": 6,
   "outputs": [],
   "source": [
    "chats_dfs = {chat.name: stats.load_from_path(chat.path) for chat in top_chats}\n",
    "grouped = {name: stats.groupby_date(chat_df) for name, chat_df in chats_dfs.items()}\n",
    "\n",
    "\n",
    "# TODO: Plan --> pd.merge (how=outer) na datafrejmach w formacie wide (kolumny --> daty,  wiersze -> Nazwa czatu, w komórkach liczba wiadomości), powinny być nulle tam gdzie sie rozjeżdzą więcorbimy .fillna(0) i jeszcze powinno sie dać zrobić agregacje po wierszach dla wyścigowego charta\n",
    "# przypal robic chyba N joinow? moze lpeiej byloby zrobic dfy z kolumnami (month, messages, chat) i indeksami domyslnymi i  je po concatowac w łatwy sposob i pozniej na tym wywolac pd.melt(rows=chat, columns=month) i sie jakos samo ogarnie xd \n",
    "\n",
    "# dates = stats.groupby_date(chat, 'M')\n",
    "#\n",
    "# f = px.line(dates, y = dates, x = dates.index, labels = {'y': 'Message count', 'x': 'Date'})\n",
    "# f.update_xaxes(nticks = 20, title ='Date')\n",
    "# f.show()"
   ],
   "metadata": {
    "collapsed": false,
    "pycharm": {
     "name": "#%%\n"
    }
   }
  },
  {
   "cell_type": "code",
   "execution_count": 2,
   "outputs": [
    {
     "name": "stdout",
     "output_type": "stream",
     "text": [
      "ass\n"
     ]
    }
   ],
   "source": [
    "print('ass')"
   ],
   "metadata": {
    "collapsed": false,
    "pycharm": {
     "name": "#%%\n"
    }
   }
  },
  {
   "cell_type": "code",
   "execution_count": 22,
   "outputs": [],
   "source": [
    "test_df = grouped['Adrian Czech']"
   ],
   "metadata": {
    "collapsed": false,
    "pycharm": {
     "name": "#%%\n"
    }
   }
  },
  {
   "cell_type": "code",
   "execution_count": null,
   "outputs": [],
   "source": [],
   "metadata": {
    "collapsed": false,
    "pycharm": {
     "name": "#%%\n"
    }
   }
  },
  {
   "cell_type": "code",
   "execution_count": 50,
   "outputs": [
    {
     "data": {
      "text/plain": "timestamp_ms\n2022-02-28 00:00:00+01:00    14\nFreq: M, Name: timestamp_ms, dtype: int64"
     },
     "execution_count": 50,
     "metadata": {},
     "output_type": "execute_result"
    }
   ],
   "source": [
    "grouped['Adrian Prorok']"
   ],
   "metadata": {
    "collapsed": false,
    "pycharm": {
     "name": "#%%\n"
    }
   }
  },
  {
   "cell_type": "code",
   "execution_count": 36,
   "outputs": [
    {
     "data": {
      "text/plain": "array([Timestamp('2018-11-30 00:00:00+0100', tz='CET', freq='M'),\n       Timestamp('2018-12-31 00:00:00+0100', tz='CET', freq='M'),\n       Timestamp('2019-01-31 00:00:00+0100', tz='CET', freq='M'),\n       Timestamp('2019-02-28 00:00:00+0100', tz='CET', freq='M'),\n       Timestamp('2019-03-31 00:00:00+0100', tz='CET', freq='M')],\n      dtype=object)"
     },
     "execution_count": 36,
     "metadata": {},
     "output_type": "execute_result"
    }
   ],
   "source": [
    "np.array(test_df.index)"
   ],
   "metadata": {
    "collapsed": false,
    "pycharm": {
     "name": "#%%\n"
    }
   }
  },
  {
   "cell_type": "code",
   "execution_count": 46,
   "outputs": [
    {
     "data": {
      "text/plain": "  messages                     month          name\n0       15 2018-11-30 00:00:00+01:00  Adrian Czech\n1        0 2018-12-31 00:00:00+01:00  Adrian Czech\n2        0 2019-01-31 00:00:00+01:00  Adrian Czech\n3        0 2019-02-28 00:00:00+01:00  Adrian Czech\n4       31 2019-03-31 00:00:00+01:00  Adrian Czech",
      "text/html": "<div>\n<style scoped>\n    .dataframe tbody tr th:only-of-type {\n        vertical-align: middle;\n    }\n\n    .dataframe tbody tr th {\n        vertical-align: top;\n    }\n\n    .dataframe thead th {\n        text-align: right;\n    }\n</style>\n<table border=\"1\" class=\"dataframe\">\n  <thead>\n    <tr style=\"text-align: right;\">\n      <th></th>\n      <th>messages</th>\n      <th>month</th>\n      <th>name</th>\n    </tr>\n  </thead>\n  <tbody>\n    <tr>\n      <th>0</th>\n      <td>15</td>\n      <td>2018-11-30 00:00:00+01:00</td>\n      <td>Adrian Czech</td>\n    </tr>\n    <tr>\n      <th>1</th>\n      <td>0</td>\n      <td>2018-12-31 00:00:00+01:00</td>\n      <td>Adrian Czech</td>\n    </tr>\n    <tr>\n      <th>2</th>\n      <td>0</td>\n      <td>2019-01-31 00:00:00+01:00</td>\n      <td>Adrian Czech</td>\n    </tr>\n    <tr>\n      <th>3</th>\n      <td>0</td>\n      <td>2019-02-28 00:00:00+01:00</td>\n      <td>Adrian Czech</td>\n    </tr>\n    <tr>\n      <th>4</th>\n      <td>31</td>\n      <td>2019-03-31 00:00:00+01:00</td>\n      <td>Adrian Czech</td>\n    </tr>\n  </tbody>\n</table>\n</div>"
     },
     "execution_count": 46,
     "metadata": {},
     "output_type": "execute_result"
    }
   ],
   "source": [
    "import numpy as np\n",
    "# test_df2 = pd.DataFrame(test_df)\n",
    "# test_df2 = pd.DataFrame(data=[test_df, test_df.index, ['Adi']*5], columns=['messages', 'month', 'name'])\n",
    "#d = np.array([np.array(test_df.values), np.array(test_df.index), np.array(['Adi']*5)])\n",
    "d = [test_df.values, test_df.index,['Adrian Czech']*5]\n",
    "test_df2 = pd.DataFrame(d, index=['messages', 'month', 'name']).T\n",
    "test_df2"
   ],
   "metadata": {
    "collapsed": false,
    "pycharm": {
     "name": "#%%\n"
    }
   }
  },
  {
   "cell_type": "code",
   "execution_count": 77,
   "outputs": [
    {
     "data": {
      "text/plain": "  messages    month           name\n0       15  11/2018  Adrian Prorok\n1       15  12/2018           None\n2       15  01/2019           None\n3       15  02/2019           None\n4       46  03/2019           None",
      "text/html": "<div>\n<style scoped>\n    .dataframe tbody tr th:only-of-type {\n        vertical-align: middle;\n    }\n\n    .dataframe tbody tr th {\n        vertical-align: top;\n    }\n\n    .dataframe thead th {\n        text-align: right;\n    }\n</style>\n<table border=\"1\" class=\"dataframe\">\n  <thead>\n    <tr style=\"text-align: right;\">\n      <th></th>\n      <th>messages</th>\n      <th>month</th>\n      <th>name</th>\n    </tr>\n  </thead>\n  <tbody>\n    <tr>\n      <th>0</th>\n      <td>15</td>\n      <td>11/2018</td>\n      <td>Adrian Prorok</td>\n    </tr>\n    <tr>\n      <th>1</th>\n      <td>15</td>\n      <td>12/2018</td>\n      <td>None</td>\n    </tr>\n    <tr>\n      <th>2</th>\n      <td>15</td>\n      <td>01/2019</td>\n      <td>None</td>\n    </tr>\n    <tr>\n      <th>3</th>\n      <td>15</td>\n      <td>02/2019</td>\n      <td>None</td>\n    </tr>\n    <tr>\n      <th>4</th>\n      <td>46</td>\n      <td>03/2019</td>\n      <td>None</td>\n    </tr>\n  </tbody>\n</table>\n</div>"
     },
     "execution_count": 77,
     "metadata": {},
     "output_type": "execute_result"
    }
   ],
   "source": [
    "test_df =  grouped['Adrian Czech']\n",
    "#test_df.cumsum()\n",
    "d = [test_df.values, test_df.index,['Adrian Prorok']*1]\n",
    "test_df3 = pd.DataFrame(d, index=['messages', 'month', 'name']).T\n",
    "test_df3['messages'] = test_df3['messages'].cumsum()\n",
    "test_df3['month'] = test_df3['month'].dt.strftime('%m/%Y')\n",
    "test_df3"
   ],
   "metadata": {
    "collapsed": false,
    "pycharm": {
     "name": "#%%\n"
    }
   }
  },
  {
   "cell_type": "code",
   "execution_count": 52,
   "outputs": [
    {
     "data": {
      "text/plain": "  messages                     month           name\n0       15 2018-11-30 00:00:00+01:00   Adrian Czech\n1        0 2018-12-31 00:00:00+01:00   Adrian Czech\n2        0 2019-01-31 00:00:00+01:00   Adrian Czech\n3        0 2019-02-28 00:00:00+01:00   Adrian Czech\n4       31 2019-03-31 00:00:00+01:00   Adrian Czech\n0       14 2022-02-28 00:00:00+01:00  Adrian Prorok",
      "text/html": "<div>\n<style scoped>\n    .dataframe tbody tr th:only-of-type {\n        vertical-align: middle;\n    }\n\n    .dataframe tbody tr th {\n        vertical-align: top;\n    }\n\n    .dataframe thead th {\n        text-align: right;\n    }\n</style>\n<table border=\"1\" class=\"dataframe\">\n  <thead>\n    <tr style=\"text-align: right;\">\n      <th></th>\n      <th>messages</th>\n      <th>month</th>\n      <th>name</th>\n    </tr>\n  </thead>\n  <tbody>\n    <tr>\n      <th>0</th>\n      <td>15</td>\n      <td>2018-11-30 00:00:00+01:00</td>\n      <td>Adrian Czech</td>\n    </tr>\n    <tr>\n      <th>1</th>\n      <td>0</td>\n      <td>2018-12-31 00:00:00+01:00</td>\n      <td>Adrian Czech</td>\n    </tr>\n    <tr>\n      <th>2</th>\n      <td>0</td>\n      <td>2019-01-31 00:00:00+01:00</td>\n      <td>Adrian Czech</td>\n    </tr>\n    <tr>\n      <th>3</th>\n      <td>0</td>\n      <td>2019-02-28 00:00:00+01:00</td>\n      <td>Adrian Czech</td>\n    </tr>\n    <tr>\n      <th>4</th>\n      <td>31</td>\n      <td>2019-03-31 00:00:00+01:00</td>\n      <td>Adrian Czech</td>\n    </tr>\n    <tr>\n      <th>0</th>\n      <td>14</td>\n      <td>2022-02-28 00:00:00+01:00</td>\n      <td>Adrian Prorok</td>\n    </tr>\n  </tbody>\n</table>\n</div>"
     },
     "execution_count": 52,
     "metadata": {},
     "output_type": "execute_result"
    }
   ],
   "source": [
    "pd.concat([test_df2, test_df3])"
   ],
   "metadata": {
    "collapsed": false,
    "pycharm": {
     "name": "#%%\n"
    }
   }
  },
  {
   "cell_type": "code",
   "execution_count": 54,
   "outputs": [
    {
     "data": {
      "text/plain": "            name variable                     value\n0   Adrian Czech    month 2018-11-30 00:00:00+01:00\n1   Adrian Czech    month 2018-12-31 00:00:00+01:00\n2   Adrian Czech    month 2019-01-31 00:00:00+01:00\n3   Adrian Czech    month 2019-02-28 00:00:00+01:00\n4   Adrian Czech    month 2019-03-31 00:00:00+01:00\n5  Adrian Prorok    month 2022-02-28 00:00:00+01:00",
      "text/html": "<div>\n<style scoped>\n    .dataframe tbody tr th:only-of-type {\n        vertical-align: middle;\n    }\n\n    .dataframe tbody tr th {\n        vertical-align: top;\n    }\n\n    .dataframe thead th {\n        text-align: right;\n    }\n</style>\n<table border=\"1\" class=\"dataframe\">\n  <thead>\n    <tr style=\"text-align: right;\">\n      <th></th>\n      <th>name</th>\n      <th>variable</th>\n      <th>value</th>\n    </tr>\n  </thead>\n  <tbody>\n    <tr>\n      <th>0</th>\n      <td>Adrian Czech</td>\n      <td>month</td>\n      <td>2018-11-30 00:00:00+01:00</td>\n    </tr>\n    <tr>\n      <th>1</th>\n      <td>Adrian Czech</td>\n      <td>month</td>\n      <td>2018-12-31 00:00:00+01:00</td>\n    </tr>\n    <tr>\n      <th>2</th>\n      <td>Adrian Czech</td>\n      <td>month</td>\n      <td>2019-01-31 00:00:00+01:00</td>\n    </tr>\n    <tr>\n      <th>3</th>\n      <td>Adrian Czech</td>\n      <td>month</td>\n      <td>2019-02-28 00:00:00+01:00</td>\n    </tr>\n    <tr>\n      <th>4</th>\n      <td>Adrian Czech</td>\n      <td>month</td>\n      <td>2019-03-31 00:00:00+01:00</td>\n    </tr>\n    <tr>\n      <th>5</th>\n      <td>Adrian Prorok</td>\n      <td>month</td>\n      <td>2022-02-28 00:00:00+01:00</td>\n    </tr>\n  </tbody>\n</table>\n</div>"
     },
     "execution_count": 54,
     "metadata": {},
     "output_type": "execute_result"
    }
   ],
   "source": [
    "pd.melt(pd.concat([test_df2, test_df3]), id_vars='name', value_vars='month')"
   ],
   "metadata": {
    "collapsed": false,
    "pycharm": {
     "name": "#%%\n"
    }
   }
  },
  {
   "cell_type": "code",
   "execution_count": 56,
   "outputs": [
    {
     "data": {
      "text/plain": "month          2018-11-30 00:00:00+01:00  2018-12-31 00:00:00+01:00  \\\nname                                                                  \nAdrian Czech                          15                          0   \nAdrian Prorok                          0                          0   \n\nmonth          2019-01-31 00:00:00+01:00  2019-02-28 00:00:00+01:00  \\\nname                                                                  \nAdrian Czech                           0                          0   \nAdrian Prorok                          0                          0   \n\nmonth          2019-03-31 00:00:00+01:00  2022-02-28 00:00:00+01:00  \nname                                                                 \nAdrian Czech                          31                          0  \nAdrian Prorok                          0                         14  ",
      "text/html": "<div>\n<style scoped>\n    .dataframe tbody tr th:only-of-type {\n        vertical-align: middle;\n    }\n\n    .dataframe tbody tr th {\n        vertical-align: top;\n    }\n\n    .dataframe thead th {\n        text-align: right;\n    }\n</style>\n<table border=\"1\" class=\"dataframe\">\n  <thead>\n    <tr style=\"text-align: right;\">\n      <th>month</th>\n      <th>2018-11-30 00:00:00+01:00</th>\n      <th>2018-12-31 00:00:00+01:00</th>\n      <th>2019-01-31 00:00:00+01:00</th>\n      <th>2019-02-28 00:00:00+01:00</th>\n      <th>2019-03-31 00:00:00+01:00</th>\n      <th>2022-02-28 00:00:00+01:00</th>\n    </tr>\n    <tr>\n      <th>name</th>\n      <th></th>\n      <th></th>\n      <th></th>\n      <th></th>\n      <th></th>\n      <th></th>\n    </tr>\n  </thead>\n  <tbody>\n    <tr>\n      <th>Adrian Czech</th>\n      <td>15</td>\n      <td>0</td>\n      <td>0</td>\n      <td>0</td>\n      <td>31</td>\n      <td>0</td>\n    </tr>\n    <tr>\n      <th>Adrian Prorok</th>\n      <td>0</td>\n      <td>0</td>\n      <td>0</td>\n      <td>0</td>\n      <td>0</td>\n      <td>14</td>\n    </tr>\n  </tbody>\n</table>\n</div>"
     },
     "execution_count": 56,
     "metadata": {},
     "output_type": "execute_result"
    }
   ],
   "source": [
    "pd.pivot(pd.concat([test_df2, test_df3]), index='name', columns='month', values='messages').fillna(0)"
   ],
   "metadata": {
    "collapsed": false,
    "pycharm": {
     "name": "#%%\n"
    }
   }
  },
  {
   "cell_type": "code",
   "execution_count": 83,
   "outputs": [
    {
     "data": {
      "text/plain": "month          2018/11  2018/12  2019/01  2019/02  2019/03  2022/02\nname                                                               \nAdrian Czech        15       15       15       15       46       46\nAdrian Prorok        0        0        0        0        0       14",
      "text/html": "<div>\n<style scoped>\n    .dataframe tbody tr th:only-of-type {\n        vertical-align: middle;\n    }\n\n    .dataframe tbody tr th {\n        vertical-align: top;\n    }\n\n    .dataframe thead th {\n        text-align: right;\n    }\n</style>\n<table border=\"1\" class=\"dataframe\">\n  <thead>\n    <tr style=\"text-align: right;\">\n      <th>month</th>\n      <th>2018/11</th>\n      <th>2018/12</th>\n      <th>2019/01</th>\n      <th>2019/02</th>\n      <th>2019/03</th>\n      <th>2022/02</th>\n    </tr>\n    <tr>\n      <th>name</th>\n      <th></th>\n      <th></th>\n      <th></th>\n      <th></th>\n      <th></th>\n      <th></th>\n    </tr>\n  </thead>\n  <tbody>\n    <tr>\n      <th>Adrian Czech</th>\n      <td>15</td>\n      <td>15</td>\n      <td>15</td>\n      <td>15</td>\n      <td>46</td>\n      <td>46</td>\n    </tr>\n    <tr>\n      <th>Adrian Prorok</th>\n      <td>0</td>\n      <td>0</td>\n      <td>0</td>\n      <td>0</td>\n      <td>0</td>\n      <td>14</td>\n    </tr>\n  </tbody>\n</table>\n</div>"
     },
     "execution_count": 83,
     "metadata": {},
     "output_type": "execute_result"
    }
   ],
   "source": [
    "big_df = pd.DataFrame()\n",
    "for name, msg_by_month in grouped.items():\n",
    "    data = [msg_by_month.values, msg_by_month.index, [name]*len(msg_by_month)]\n",
    "    wide_df = pd.DataFrame(data, index=['messages', 'month', 'name']).T\n",
    "    wide_df['month'] = wide_df['month'].dt.strftime('%Y/%m')\n",
    "    #wide_df['messages'] = wide_df['messages'].cumsum()\n",
    "    big_df = pd.concat([big_df, wide_df])\n",
    "\n",
    "#big_df\n",
    "result = (pd.pivot(big_df, index='name', columns='month', values='messages')\n",
    "          .fillna(0)\n",
    "          .cumsum(axis=1)\n",
    "          )\n",
    "\n",
    "result.to_csv('result.csv')\n",
    "result"
   ],
   "metadata": {
    "collapsed": false,
    "pycharm": {
     "name": "#%%\n"
    }
   }
  }
 ],
 "metadata": {
  "kernelspec": {
   "display_name": "Python 3",
   "language": "python",
   "name": "python3"
  },
  "language_info": {
   "codemirror_mode": {
    "name": "ipython",
    "version": 2
   },
   "file_extension": ".py",
   "mimetype": "text/x-python",
   "name": "python",
   "nbconvert_exporter": "python",
   "pygments_lexer": "ipython2",
   "version": "2.7.6"
  }
 },
 "nbformat": 4,
 "nbformat_minor": 0
}